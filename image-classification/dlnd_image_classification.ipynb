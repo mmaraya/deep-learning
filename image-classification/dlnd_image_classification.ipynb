{
 "cells": [
  {
   "cell_type": "markdown",
   "metadata": {
    "collapsed": true,
    "deletable": true,
    "editable": true
   },
   "source": [
    "# Image Classification\n",
    "In this project, you'll classify images from the [CIFAR-10 dataset](https://www.cs.toronto.edu/~kriz/cifar.html).  The dataset consists of airplanes, dogs, cats, and other objects. You'll preprocess the images, then train a convolutional neural network on all the samples. The images need to be normalized and the labels need to be one-hot encoded.  You'll get to apply what you learned and build a convolutional, max pooling, dropout, and fully connected layers.  At the end, you'll get to see your neural network's predictions on the sample images.\n",
    "## Get the Data\n",
    "Run the following cell to download the [CIFAR-10 dataset for python](https://www.cs.toronto.edu/~kriz/cifar-10-python.tar.gz)."
   ]
  },
  {
   "cell_type": "code",
   "execution_count": 2,
   "metadata": {
    "collapsed": false,
    "deletable": true,
    "editable": true
   },
   "outputs": [
    {
     "name": "stdout",
     "output_type": "stream",
     "text": [
      "All files found!\n"
     ]
    }
   ],
   "source": [
    "\"\"\"\n",
    "DON'T MODIFY ANYTHING IN THIS CELL THAT IS BELOW THIS LINE\n",
    "\"\"\"\n",
    "from urllib.request import urlretrieve\n",
    "from os.path import isfile, isdir\n",
    "from tqdm import tqdm\n",
    "import problem_unittests as tests\n",
    "import tarfile\n",
    "\n",
    "cifar10_dataset_folder_path = 'cifar-10-batches-py'\n",
    "\n",
    "# Use Floyd's cifar-10 dataset if present\n",
    "floyd_cifar10_location = '/input/cifar-10/python.tar.gz'\n",
    "if isfile(floyd_cifar10_location):\n",
    "    tar_gz_path = floyd_cifar10_location\n",
    "else:\n",
    "    tar_gz_path = 'cifar-10-python.tar.gz'\n",
    "\n",
    "class DLProgress(tqdm):\n",
    "    last_block = 0\n",
    "\n",
    "    def hook(self, block_num=1, block_size=1, total_size=None):\n",
    "        self.total = total_size\n",
    "        self.update((block_num - self.last_block) * block_size)\n",
    "        self.last_block = block_num\n",
    "\n",
    "if not isfile(tar_gz_path):\n",
    "    with DLProgress(unit='B', unit_scale=True, miniters=1, desc='CIFAR-10 Dataset') as pbar:\n",
    "        urlretrieve(\n",
    "            'https://www.cs.toronto.edu/~kriz/cifar-10-python.tar.gz',\n",
    "            tar_gz_path,\n",
    "            pbar.hook)\n",
    "\n",
    "if not isdir(cifar10_dataset_folder_path):\n",
    "    with tarfile.open(tar_gz_path) as tar:\n",
    "        tar.extractall()\n",
    "        tar.close()\n",
    "\n",
    "\n",
    "tests.test_folder_path(cifar10_dataset_folder_path)"
   ]
  },
  {
   "cell_type": "markdown",
   "metadata": {
    "deletable": true,
    "editable": true
   },
   "source": [
    "## Explore the Data\n",
    "The dataset is broken into batches to prevent your machine from running out of memory.  The CIFAR-10 dataset consists of 5 batches, named `data_batch_1`, `data_batch_2`, etc.. Each batch contains the labels and images that are one of the following:\n",
    "* airplane\n",
    "* automobile\n",
    "* bird\n",
    "* cat\n",
    "* deer\n",
    "* dog\n",
    "* frog\n",
    "* horse\n",
    "* ship\n",
    "* truck\n",
    "\n",
    "Understanding a dataset is part of making predictions on the data.  Play around with the code cell below by changing the `batch_id` and `sample_id`. The `batch_id` is the id for a batch (1-5). The `sample_id` is the id for a image and label pair in the batch.\n",
    "\n",
    "Ask yourself \"What are all possible labels?\", \"What is the range of values for the image data?\", \"Are the labels in order or random?\".  Answers to questions like these will help you preprocess the data and end up with better predictions."
   ]
  },
  {
   "cell_type": "code",
   "execution_count": 3,
   "metadata": {
    "collapsed": false,
    "deletable": true,
    "editable": true
   },
   "outputs": [
    {
     "name": "stdout",
     "output_type": "stream",
     "text": [
      "\n",
      "Stats of batch 1:\n",
      "Samples: 10000\n",
      "Label Counts: {0: 1005, 1: 974, 2: 1032, 3: 1016, 4: 999, 5: 937, 6: 1030, 7: 1001, 8: 1025, 9: 981}\n",
      "First 20 Labels: [6, 9, 9, 4, 1, 1, 2, 7, 8, 3, 4, 7, 7, 2, 9, 9, 9, 3, 2, 6]\n",
      "\n",
      "Example of Image 9:\n",
      "Image - Min Value: 11 Max Value: 218\n",
      "Image - Shape: (32, 32, 3)\n",
      "Label - Label Id: 3 Name: cat\n"
     ]
    },
    {
     "data": {
      "image/png": "[encoded data removed]",
      "text/plain": [
       "<matplotlib.figure.Figure at 0x7fb7fc1c6e80>"
      ]
     },
     "metadata": {
      "image/png": {
       "height": 250,
       "width": 253
      }
     },
     "output_type": "display_data"
    }
   ],
   "source": [
    "%matplotlib inline\n",
    "%config InlineBackend.figure_format = 'retina'\n",
    "\n",
    "import helper\n",
    "import numpy as np\n",
    "\n",
    "# Explore the dataset\n",
    "batch_id = 1\n",
    "sample_id = 9\n",
    "helper.display_stats(cifar10_dataset_folder_path, batch_id, sample_id)"
   ]
  },
  {
   "cell_type": "markdown",
   "metadata": {
    "deletable": true,
    "editable": true
   },
   "source": [
    "## Implement Preprocess Functions\n",
    "### Normalize\n",
    "In the cell below, implement the `normalize` function to take in image data, `x`, and return it as a normalized Numpy array. The values should be in the range of 0 to 1, inclusive.  The return object should be the same shape as `x`."
   ]
  },
  {
   "cell_type": "code",
   "execution_count": 4,
   "metadata": {
    "collapsed": false,
    "deletable": true,
    "editable": true
   },
   "outputs": [
    {
     "name": "stdout",
     "output_type": "stream",
     "text": [
      "Tests Passed\n"
     ]
    }
   ],
   "source": [
    "def normalize(x):\n",
    "    \"\"\"\n",
    "    Normalize a list of sample image data in the range of 0 to 1\n",
    "    : x: List of image data.  The image shape is (32, 32, 3)\n",
    "    : return: Numpy array of normalize data\n",
    "    \"\"\"\n",
    "    # DONE: Implement Function\n",
    "    # Each RGB value is from 0 to 255 so to normalize, simply divide the value by 255\n",
    "    return x / 255\n",
    "\n",
    "\"\"\"\n",
    "DON'T MODIFY ANYTHING IN THIS CELL THAT IS BELOW THIS LINE\n",
    "\"\"\"\n",
    "tests.test_normalize(normalize)"
   ]
  },
  {
   "cell_type": "markdown",
   "metadata": {
    "deletable": true,
    "editable": true
   },
   "source": [
    "### One-hot encode\n",
    "Just like the previous code cell, you'll be implementing a function for preprocessing.  This time, you'll implement the `one_hot_encode` function. The input, `x`, are a list of labels.  Implement the function to return the list of labels as One-Hot encoded Numpy array.  The possible values for labels are 0 to 9. The one-hot encoding function should return the same encoding for each value between each call to `one_hot_encode`.  Make sure to save the map of encodings outside the function.\n",
    "\n",
    "Hint: Don't reinvent the wheel."
   ]
  },
  {
   "cell_type": "code",
   "execution_count": 5,
   "metadata": {
    "collapsed": false,
    "deletable": true,
    "editable": true
   },
   "outputs": [
    {
     "name": "stdout",
     "output_type": "stream",
     "text": [
      "Tests Passed\n"
     ]
    }
   ],
   "source": [
    "from sklearn import preprocessing\n",
    "\n",
    "# Create the map of encodings\n",
    "labels = ([0, 1, 2, 3, 4, 5, 6, 7, 8, 9])\n",
    "lb = preprocessing.LabelBinarizer()\n",
    "lb.fit(labels)\n",
    "\n",
    "def one_hot_encode(x):\n",
    "    \"\"\"\n",
    "    One hot encode a list of sample labels. Return a one-hot encoded vector for each label.\n",
    "    : x: List of sample Labels\n",
    "    : return: Numpy array of one-hot encoded labels\n",
    "    \"\"\"\n",
    "    # DONE: Implement Function\n",
    "    return lb.transform(x)\n",
    "\n",
    "\"\"\"\n",
    "DON'T MODIFY ANYTHING IN THIS CELL THAT IS BELOW THIS LINE\n",
    "\"\"\"\n",
    "tests.test_one_hot_encode(one_hot_encode)"
   ]
  },
  {
   "cell_type": "markdown",
   "metadata": {
    "deletable": true,
    "editable": true
   },
   "source": [
    "### Randomize Data\n",
    "As you saw from exploring the data above, the order of the samples are randomized.  It doesn't hurt to randomize it again, but you don't need to for this dataset."
   ]
  },
  {
   "cell_type": "markdown",
   "metadata": {
    "deletable": true,
    "editable": true
   },
   "source": [
    "## Preprocess all the data and save it\n",
    "Running the code cell below will preprocess all the CIFAR-10 data and save it to file. The code below also uses 10% of the training data for validation."
   ]
  },
  {
   "cell_type": "code",
   "execution_count": 6,
   "metadata": {
    "collapsed": false,
    "deletable": true,
    "editable": true
   },
   "outputs": [],
   "source": [
    "\"\"\"\n",
    "DON'T MODIFY ANYTHING IN THIS CELL\n",
    "\"\"\"\n",
    "# Preprocess Training, Validation, and Testing Data\n",
    "helper.preprocess_and_save_data(cifar10_dataset_folder_path, normalize, one_hot_encode)"
   ]
  },
  {
   "cell_type": "markdown",
   "metadata": {
    "deletable": true,
    "editable": true
   },
   "source": [
    "# Check Point\n",
    "This is your first checkpoint.  If you ever decide to come back to this notebook or have to restart the notebook, you can start from here.  The preprocessed data has been saved to disk."
   ]
  },
  {
   "cell_type": "code",
   "execution_count": 7,
   "metadata": {
    "collapsed": true,
    "deletable": true,
    "editable": true
   },
   "outputs": [],
   "source": [
    "\"\"\"\n",
    "DON'T MODIFY ANYTHING IN THIS CELL\n",
    "\"\"\"\n",
    "import pickle\n",
    "import problem_unittests as tests\n",
    "import helper\n",
    "\n",
    "# Load the Preprocessed Validation data\n",
    "valid_features, valid_labels = pickle.load(open('preprocess_validation.p', mode='rb'))"
   ]
  },
  {
   "cell_type": "markdown",
   "metadata": {
    "deletable": true,
    "editable": true
   },
   "source": [
    "## Build the network\n",
    "For the neural network, you'll build each layer into a function.  Most of the code you've seen has been outside of functions. To test your code more thoroughly, we require that you put each layer in a function.  This allows us to give you better feedback and test for simple mistakes using our unittests before you submit your project.\n",
    "\n",
    ">**Note:** If you're finding it hard to dedicate enough time for this course each week, we've provided a small shortcut to this part of the project. In the next couple of problems, you'll have the option to use classes from the [TensorFlow Layers](https://www.tensorflow.org/api_docs/python/tf/layers) or [TensorFlow Layers (contrib)](https://www.tensorflow.org/api_guides/python/contrib.layers) packages to build each layer, except the layers you build in the \"Convolutional and Max Pooling Layer\" section.  TF Layers is similar to Keras's and TFLearn's abstraction to layers, so it's easy to pickup.\n",
    "\n",
    ">However, if you would like to get the most out of this course, try to solve all the problems _without_ using anything from the TF Layers packages. You **can** still use classes from other packages that happen to have the same name as ones you find in TF Layers! For example, instead of using the TF Layers version of the `conv2d` class, [tf.layers.conv2d](https://www.tensorflow.org/api_docs/python/tf/layers/conv2d), you would want to use the TF Neural Network version of `conv2d`, [tf.nn.conv2d](https://www.tensorflow.org/api_docs/python/tf/nn/conv2d). \n",
    "\n",
    "Let's begin!\n",
    "\n",
    "### Input\n",
    "The neural network needs to read the image data, one-hot encoded labels, and dropout keep probability. Implement the following functions\n",
    "* Implement `neural_net_image_input`\n",
    " * Return a [TF Placeholder](https://www.tensorflow.org/api_docs/python/tf/placeholder)\n",
    " * Set the shape using `image_shape` with batch size set to `None`.\n",
    " * Name the TensorFlow placeholder \"x\" using the TensorFlow `name` parameter in the [TF Placeholder](https://www.tensorflow.org/api_docs/python/tf/placeholder).\n",
    "* Implement `neural_net_label_input`\n",
    " * Return a [TF Placeholder](https://www.tensorflow.org/api_docs/python/tf/placeholder)\n",
    " * Set the shape using `n_classes` with batch size set to `None`.\n",
    " * Name the TensorFlow placeholder \"y\" using the TensorFlow `name` parameter in the [TF Placeholder](https://www.tensorflow.org/api_docs/python/tf/placeholder).\n",
    "* Implement `neural_net_keep_prob_input`\n",
    " * Return a [TF Placeholder](https://www.tensorflow.org/api_docs/python/tf/placeholder) for dropout keep probability.\n",
    " * Name the TensorFlow placeholder \"keep_prob\" using the TensorFlow `name` parameter in the [TF Placeholder](https://www.tensorflow.org/api_docs/python/tf/placeholder).\n",
    "\n",
    "These names will be used at the end of the project to load your saved model.\n",
    "\n",
    "Note: `None` for shapes in TensorFlow allow for a dynamic size."
   ]
  },
  {
   "cell_type": "code",
   "execution_count": 8,
   "metadata": {
    "collapsed": false,
    "deletable": true,
    "editable": true
   },
   "outputs": [
    {
     "name": "stdout",
     "output_type": "stream",
     "text": [
      "Image Input Tests Passed.\n",
      "Label Input Tests Passed.\n",
      "Keep Prob Tests Passed.\n"
     ]
    }
   ],
   "source": [
    "import tensorflow as tf\n",
    "\n",
    "def neural_net_image_input(image_shape):\n",
    "    \"\"\"\n",
    "    Return a Tensor for a batch of image input\n",
    "    : image_shape: Shape of the images\n",
    "    : return: Tensor for image input.\n",
    "    \"\"\"\n",
    "    # DONE: Implement Function\n",
    "    return tf.placeholder(tf.float32, shape=[None] + list(image_shape), name=\"x\")\n",
    "\n",
    "\n",
    "def neural_net_label_input(n_classes):\n",
    "    \"\"\"\n",
    "    Return a Tensor for a batch of label input\n",
    "    : n_classes: Number of classes\n",
    "    : return: Tensor for label input.\n",
    "    \"\"\"\n",
    "    # DONE: Implement Function\n",
    "    return tf.placeholder(tf.uint8, shape=[None, n_classes], name=\"y\")\n",
    "\n",
    "\n",
    "def neural_net_keep_prob_input():\n",
    "    \"\"\"\n",
    "    Return a Tensor for keep probability\n",
    "    : return: Tensor for keep probability.\n",
    "    \"\"\"\n",
    "    # DONE: Implement Function\n",
    "    return tf.placeholder(tf.float32, shape=None, name=\"keep_prob\")\n",
    "\n",
    "\n",
    "\"\"\"\n",
    "DON'T MODIFY ANYTHING IN THIS CELL THAT IS BELOW THIS LINE\n",
    "\"\"\"\n",
    "tf.reset_default_graph()\n",
    "tests.test_nn_image_inputs(neural_net_image_input)\n",
    "tests.test_nn_label_inputs(neural_net_label_input)\n",
    "tests.test_nn_keep_prob_inputs(neural_net_keep_prob_input)"
   ]
  },
  {
   "cell_type": "markdown",
   "metadata": {
    "deletable": true,
    "editable": true
   },
   "source": [
    "### Convolution and Max Pooling Layer\n",
    "Convolution layers have a lot of success with images. For this code cell, you should implement the function `conv2d_maxpool` to apply convolution then max pooling:\n",
    "* Create the weight and bias using `conv_ksize`, `conv_num_outputs` and the shape of `x_tensor`.\n",
    "* Apply a convolution to `x_tensor` using weight and `conv_strides`.\n",
    " * We recommend you use same padding, but you're welcome to use any padding.\n",
    "* Add bias\n",
    "* Add a nonlinear activation to the convolution.\n",
    "* Apply Max Pooling using `pool_ksize` and `pool_strides`.\n",
    " * We recommend you use same padding, but you're welcome to use any padding.\n",
    "\n",
    "**Note:** You **can't** use [TensorFlow Layers](https://www.tensorflow.org/api_docs/python/tf/layers) or [TensorFlow Layers (contrib)](https://www.tensorflow.org/api_guides/python/contrib.layers) for **this** layer, but you can still use TensorFlow's [Neural Network](https://www.tensorflow.org/api_docs/python/tf/nn) package. You may still use the shortcut option for all the **other** layers."
   ]
  },
  {
   "cell_type": "code",
   "execution_count": 13,
   "metadata": {
    "collapsed": false,
    "deletable": true,
    "editable": true
   },
   "outputs": [
    {
     "name": "stdout",
     "output_type": "stream",
     "text": [
      "x_tensor: {} Tensor(\"Placeholder_3:0\", shape=(?, 32, 32, 5), dtype=float32)\n",
      "conv_num_outputs: {} 10\n",
      "conv_ksize: {} (2, 2)\n",
      "conv_strides: {} (4, 4)\n",
      "pool_ksize: {} (2, 2)\n",
      "pool_strides: {} (2, 2)\n",
      "conv_layer: {} Tensor(\"MaxPool_1:0\", shape=(?, 4, 4, 10), dtype=float32)\n",
      "Tests Passed\n"
     ]
    }
   ],
   "source": [
    "def conv2d_maxpool(x_tensor, conv_num_outputs, conv_ksize, conv_strides, pool_ksize, pool_strides):\n",
    "    \"\"\"\n",
    "    Apply convolution then max pooling to x_tensor\n",
    "    :param x_tensor: TensorFlow Tensor\n",
    "    :param conv_num_outputs: Number of outputs for the convolutional layer\n",
    "    :param conv_ksize: kernal size 2-D Tuple for the convolutional layer\n",
    "    :param conv_strides: Stride 2-D Tuple for convolution\n",
    "    :param pool_ksize: kernal size 2-D Tuple for pool\n",
    "    :param pool_strides: Stride 2-D Tuple for pool\n",
    "    : return: A tensor that represents convolution and max pooling of x_tensor\n",
    "    \"\"\"\n",
    "    # Display information about the parameters, delete after unit tests pass\n",
    "    \n",
    "    print(\"x_tensor: {}\", x_tensor)\n",
    "    print(\"conv_num_outputs: {}\", conv_num_outputs)\n",
    "    print(\"conv_ksize: {}\", conv_ksize)\n",
    "    print(\"conv_strides: {}\", conv_strides)\n",
    "    print(\"pool_ksize: {}\", pool_ksize)\n",
    "    print(\"pool_strides: {}\", pool_strides)\n",
    " \n",
    "    # DONE: Implement Function\n",
    "    \n",
    "    # DONE: Create the weight and bias using conv_ksize, conv_num_outputs and the shape of x_tensor\n",
    "    shape = [conv_ksize[0], conv_ksize[1], x_tensor.get_shape().as_list()[3], conv_num_outputs]\n",
    "    weight = tf.Variable(tf.truncated_normal(shape, mean=0.0, stddev=0.1))\n",
    "    bias = tf.Variable(tf.zeros(conv_num_outputs))\n",
    "    \n",
    "    # DONE: Apply a convolution to x_tensor using weight and conv_strides\n",
    "    strides = [1, conv_strides[0], conv_strides[1], 1]\n",
    "    conv_layer = tf.nn.conv2d(x_tensor, weight, strides, padding='SAME')\n",
    "    \n",
    "    # DONE: Add bias\n",
    "    conv_layer = tf.nn.bias_add(conv_layer, bias)\n",
    "    \n",
    "    # DONE: Add a nonlinear activation to the convolution\n",
    "    conv_layer = tf.nn.relu(conv_layer)\n",
    "    \n",
    "    # DONE: Apply Max Pooling using pool_ksize and pool_strides\n",
    "    strides = [1, pool_strides[0], pool_strides[1], 1]\n",
    "    ksize = [1, pool_ksize[0], pool_ksize[1], 1]\n",
    "    conv_layer = tf.nn.max_pool(conv_layer, ksize, strides, padding='SAME')\n",
    "\n",
    "    print (\"conv_layer: {}\", conv_layer)\n",
    "    return conv_layer \n",
    "\n",
    "\n",
    "\"\"\"\n",
    "DON'T MODIFY ANYTHING IN THIS CELL THAT IS BELOW THIS LINE\n",
    "\"\"\"\n",
    "tests.test_con_pool(conv2d_maxpool)"
   ]
  },
  {
   "cell_type": "markdown",
   "metadata": {
    "deletable": true,
    "editable": true
   },
   "source": [
    "### Flatten Layer\n",
    "Implement the `flatten` function to change the dimension of `x_tensor` from a 4-D tensor to a 2-D tensor.  The output should be the shape (*Batch Size*, *Flattened Image Size*). Shortcut option: you can use classes from the [TensorFlow Layers](https://www.tensorflow.org/api_docs/python/tf/layers) or [TensorFlow Layers (contrib)](https://www.tensorflow.org/api_guides/python/contrib.layers) packages for this layer. For more of a challenge, only use other TensorFlow packages."
   ]
  },
  {
   "cell_type": "code",
   "execution_count": 14,
   "metadata": {
    "collapsed": false,
    "deletable": true,
    "editable": true
   },
   "outputs": [
    {
     "name": "stdout",
     "output_type": "stream",
     "text": [
      "Tests Passed\n"
     ]
    }
   ],
   "source": [
    "from functools import reduce\n",
    "def flatten(x_tensor):\n",
    "    \"\"\"\n",
    "    Flatten x_tensor to (Batch Size, Flattened Image Size)\n",
    "    : x_tensor: A tensor of size (Batch Size, ...), where ... are the image dimensions.\n",
    "    : return: A tensor of size (Batch Size, Flattened Image Size).\n",
    "    \"\"\"\n",
    "    # DONE: Implement Function\n",
    "    return tf.reshape(x_tensor, [-1, reduce(lambda x, y: x*y, x_tensor.get_shape().as_list()[1:])]) \n",
    "\n",
    "\n",
    "\"\"\"\n",
    "DON'T MODIFY ANYTHING IN THIS CELL THAT IS BELOW THIS LINE\n",
    "\"\"\"\n",
    "tests.test_flatten(flatten)"
   ]
  },
  {
   "cell_type": "markdown",
   "metadata": {
    "deletable": true,
    "editable": true
   },
   "source": [
    "### Fully-Connected Layer\n",
    "Implement the `fully_conn` function to apply a fully connected layer to `x_tensor` with the shape (*Batch Size*, *num_outputs*). Shortcut option: you can use classes from the [TensorFlow Layers](https://www.tensorflow.org/api_docs/python/tf/layers) or [TensorFlow Layers (contrib)](https://www.tensorflow.org/api_guides/python/contrib.layers) packages for this layer. For more of a challenge, only use other TensorFlow packages."
   ]
  },
  {
   "cell_type": "code",
   "execution_count": 16,
   "metadata": {
    "collapsed": false,
    "deletable": true,
    "editable": true
   },
   "outputs": [
    {
     "name": "stdout",
     "output_type": "stream",
     "text": [
      "Tests Passed\n"
     ]
    }
   ],
   "source": [
    "def fully_conn(x_tensor, num_outputs):\n",
    "    \"\"\"\n",
    "    Apply a fully connected layer to x_tensor using weight and bias\n",
    "    : x_tensor: A 2-D tensor where the first dimension is batch size.\n",
    "    : num_outputs: The number of output that the new tensor should be.\n",
    "    : return: A 2-D tensor where the second dimension is num_outputs.\n",
    "    \"\"\"\n",
    "    # DONE: Implement Function\n",
    "    shape = [reduce(lambda x, y: x*y, x_tensor.get_shape().as_list()[1:]), num_outputs]\n",
    "    weight = tf.Variable(tf.truncated_normal(shape, mean=0.0, stddev=0.1))\n",
    "    bias = tf.Variable(tf.zeros(num_outputs))\n",
    "    return tf.nn.relu(tf.add(tf.matmul(x_tensor, weight), bias))\n",
    "    \n",
    "\n",
    "\"\"\"\n",
    "DON'T MODIFY ANYTHING IN THIS CELL THAT IS BELOW THIS LINE\n",
    "\"\"\"\n",
    "tests.test_fully_conn(fully_conn)"
   ]
  },
  {
   "cell_type": "markdown",
   "metadata": {
    "deletable": true,
    "editable": true
   },
   "source": [
    "### Output Layer\n",
    "Implement the `output` function to apply a fully connected layer to `x_tensor` with the shape (*Batch Size*, *num_outputs*). Shortcut option: you can use classes from the [TensorFlow Layers](https://www.tensorflow.org/api_docs/python/tf/layers) or [TensorFlow Layers (contrib)](https://www.tensorflow.org/api_guides/python/contrib.layers) packages for this layer. For more of a challenge, only use other TensorFlow packages.\n",
    "\n",
    "**Note:** Activation, softmax, or cross entropy should **not** be applied to this."
   ]
  },
  {
   "cell_type": "code",
   "execution_count": 19,
   "metadata": {
    "collapsed": false,
    "deletable": true,
    "editable": true
   },
   "outputs": [
    {
     "name": "stdout",
     "output_type": "stream",
     "text": [
      "Tests Passed\n"
     ]
    }
   ],
   "source": [
    "def output(x_tensor, num_outputs):\n",
    "    \"\"\"\n",
    "    Apply a output layer to x_tensor using weight and bias\n",
    "    : x_tensor: A 2-D tensor where the first dimension is batch size.\n",
    "    : num_outputs: The number of output that the new tensor should be.\n",
    "    : return: A 2-D tensor where the second dimension is num_outputs.\n",
    "    \"\"\"\n",
    "    # DONE: Implement Function\n",
    "    shape = [reduce(lambda x, y: x*y, x_tensor.get_shape().as_list()[1:]), num_outputs]\n",
    "    weight = tf.Variable(tf.truncated_normal(shape, mean=0.0, stddev=0.1))\n",
    "    bias = tf.Variable(tf.zeros(num_outputs))\n",
    "    return tf.add(tf.matmul(x_tensor, weight), bias)\n",
    "\n",
    "\n",
    "\"\"\"\n",
    "DON'T MODIFY ANYTHING IN THIS CELL THAT IS BELOW THIS LINE\n",
    "\"\"\"\n",
    "tests.test_output(output)"
   ]
  },
  {
   "cell_type": "markdown",
   "metadata": {
    "deletable": true,
    "editable": true
   },
   "source": [
    "### Create Convolutional Model\n",
    "Implement the function `conv_net` to create a convolutional neural network model. The function takes in a batch of images, `x`, and outputs logits.  Use the layers you created above to create this model:\n",
    "\n",
    "* Apply 1, 2, or 3 Convolution and Max Pool layers\n",
    "* Apply a Flatten Layer\n",
    "* Apply 1, 2, or 3 Fully Connected Layers\n",
    "* Apply an Output Layer\n",
    "* Return the output\n",
    "* Apply [TensorFlow's Dropout](https://www.tensorflow.org/api_docs/python/tf/nn/dropout) to one or more layers in the model using `keep_prob`. "
   ]
  },
  {
   "cell_type": "code",
   "execution_count": 31,
   "metadata": {
    "collapsed": false,
    "deletable": true,
    "editable": true
   },
   "outputs": [
    {
     "name": "stdout",
     "output_type": "stream",
     "text": [
      "x_tensor: {} Tensor(\"x:0\", shape=(?, 32, 32, 3), dtype=float32)\n",
      "conv_num_outputs: {} 24\n",
      "conv_ksize: {} [6, 6]\n",
      "conv_strides: {} [1, 1]\n",
      "pool_ksize: {} [4, 4]\n",
      "pool_strides: {} [1, 1]\n",
      "conv_layer: {} Tensor(\"MaxPool:0\", shape=(?, 32, 32, 24), dtype=float32)\n",
      "x_tensor: {} Tensor(\"Placeholder:0\", shape=(?, 32, 32, 3), dtype=float32)\n",
      "conv_num_outputs: {} 24\n",
      "conv_ksize: {} [6, 6]\n",
      "conv_strides: {} [1, 1]\n",
      "pool_ksize: {} [4, 4]\n",
      "pool_strides: {} [1, 1]\n",
      "conv_layer: {} Tensor(\"MaxPool_1:0\", shape=(?, 32, 32, 24), dtype=float32)\n",
      "Neural Network Built!\n"
     ]
    }
   ],
   "source": [
    "def conv_net(x, keep_prob):\n",
    "    \"\"\"\n",
    "    Create a convolutional neural network model\n",
    "    : x: Placeholder tensor that holds image data.\n",
    "    : keep_prob: Placeholder tensor that hold dropout keep probability.\n",
    "    : return: Tensor that represents logits\n",
    "    \"\"\"\n",
    "    # DONE: Apply 1, 2, or 3 Convolution and Max Pool layers\n",
    "    #    Play around with different number of outputs, kernel size and stride\n",
    "    # Function Definition from Above:\n",
    "    #    conv2d_maxpool(x_tensor, conv_num_outputs, conv_ksize, conv_strides, pool_ksize, pool_strides)\n",
    "    x_tensor = conv2d_maxpool(x, conv_num_outputs=24, conv_ksize=[6,6], conv_strides=[1,1], pool_ksize=[4,4], \n",
    "                              pool_strides=[1,1])\n",
    "\n",
    "    # TODO: Apply TensorFlow Dropout\n",
    "    x_tensor = tf.nn.dropout(x_tensor, keep_prob=keep_prob)\n",
    "    \n",
    "    # DONE: Apply a Flatten Layer\n",
    "    # Function Definition from Above:\n",
    "    #   flatten(x_tensor)\n",
    "    x_tensor = flatten(x_tensor)\n",
    "\n",
    "    # DONE: Apply 1, 2, or 3 Fully Connected Layers\n",
    "    #    Play around with different number of outputs\n",
    "    # Function Definition from Above:\n",
    "    #   fully_conn(x_tensor, num_outputs)\n",
    "    x_tensor = fully_conn(x_tensor, 240)\n",
    "    \n",
    "    # TODO: Apply TensorFlow Dropout\n",
    "    x_tensor = tf.nn.dropout(x_tensor, keep_prob=keep_prob)\n",
    "    \n",
    "    # DONE: Apply an Output Layer\n",
    "    #    Set this to the number of classes\n",
    "    # Function Definition from Above:\n",
    "    #   output(x_tensor, num_outputs)\n",
    "    x_tensor = output(x_tensor, len(labels))\n",
    "        \n",
    "    # TODO: return output\n",
    "    return x_tensor\n",
    "\n",
    "\n",
    "\"\"\"\n",
    "DON'T MODIFY ANYTHING IN THIS CELL THAT IS BELOW THIS LINE\n",
    "\"\"\"\n",
    "\n",
    "##############################\n",
    "## Build the Neural Network ##\n",
    "##############################\n",
    "\n",
    "# Remove previous weights, bias, inputs, etc..\n",
    "tf.reset_default_graph()\n",
    "\n",
    "# Inputs\n",
    "x = neural_net_image_input((32, 32, 3))\n",
    "y = neural_net_label_input(10)\n",
    "keep_prob = neural_net_keep_prob_input()\n",
    "\n",
    "# Model\n",
    "logits = conv_net(x, keep_prob)\n",
    "\n",
    "# Name logits Tensor, so that is can be loaded from disk after training\n",
    "logits = tf.identity(logits, name='logits')\n",
    "\n",
    "# Loss and Optimizer\n",
    "cost = tf.reduce_mean(tf.nn.softmax_cross_entropy_with_logits(logits=logits, labels=y))\n",
    "optimizer = tf.train.AdamOptimizer().minimize(cost)\n",
    "\n",
    "# Accuracy\n",
    "correct_pred = tf.equal(tf.argmax(logits, 1), tf.argmax(y, 1))\n",
    "accuracy = tf.reduce_mean(tf.cast(correct_pred, tf.float32), name='accuracy')\n",
    "\n",
    "tests.test_conv_net(conv_net)"
   ]
  },
  {
   "cell_type": "markdown",
   "metadata": {
    "deletable": true,
    "editable": true
   },
   "source": [
    "## Train the Neural Network\n",
    "### Single Optimization\n",
    "Implement the function `train_neural_network` to do a single optimization.  The optimization should use `optimizer` to optimize in `session` with a `feed_dict` of the following:\n",
    "* `x` for image input\n",
    "* `y` for labels\n",
    "* `keep_prob` for keep probability for dropout\n",
    "\n",
    "This function will be called for each batch, so `tf.global_variables_initializer()` has already been called.\n",
    "\n",
    "Note: Nothing needs to be returned. This function is only optimizing the neural network."
   ]
  },
  {
   "cell_type": "code",
   "execution_count": 32,
   "metadata": {
    "collapsed": false,
    "deletable": true,
    "editable": true
   },
   "outputs": [
    {
     "name": "stdout",
     "output_type": "stream",
     "text": [
      "Tests Passed\n"
     ]
    }
   ],
   "source": [
    "def train_neural_network(session, optimizer, keep_probability, feature_batch, label_batch):\n",
    "    \"\"\"\n",
    "    Optimize the session on a batch of images and labels\n",
    "    : session: Current TensorFlow session\n",
    "    : optimizer: TensorFlow optimizer function\n",
    "    : keep_probability: keep probability\n",
    "    : feature_batch: Batch of Numpy image data\n",
    "    : label_batch: Batch of Numpy label data\n",
    "    \"\"\"\n",
    "    # DONE: Implement Function\n",
    "    session.run(optimizer, feed_dict={x:feature_batch, y:label_batch, keep_prob:keep_probability})\n",
    "\n",
    "\n",
    "\"\"\"\n",
    "DON'T MODIFY ANYTHING IN THIS CELL THAT IS BELOW THIS LINE\n",
    "\"\"\"\n",
    "tests.test_train_nn(train_neural_network)"
   ]
  },
  {
   "cell_type": "markdown",
   "metadata": {
    "deletable": true,
    "editable": true
   },
   "source": [
    "### Show Stats\n",
    "Implement the function `print_stats` to print loss and validation accuracy.  Use the global variables `valid_features` and `valid_labels` to calculate validation accuracy.  Use a keep probability of `1.0` to calculate the loss and validation accuracy."
   ]
  },
  {
   "cell_type": "code",
   "execution_count": 33,
   "metadata": {
    "collapsed": true,
    "deletable": true,
    "editable": true
   },
   "outputs": [],
   "source": [
    "def print_stats(session, feature_batch, label_batch, cost, accuracy):\n",
    "    \"\"\"\n",
    "    Print information about loss and validation accuracy\n",
    "    : session: Current TensorFlow session\n",
    "    : feature_batch: Batch of Numpy image data\n",
    "    : label_batch: Batch of Numpy label data\n",
    "    : cost: TensorFlow cost function\n",
    "    : accuracy: TensorFlow accuracy function\n",
    "    \"\"\"\n",
    "    # DONE: Implement Function\n",
    "    loss = session.run(cost, feed_dict={x:feature_batch, y:label_batch, keep_prob:1.0})\n",
    "    accuracy = session.run(accuracy, feed_dict={x: valid_features, y: valid_labels, keep_prob: 1.0})\n",
    "    print(\"Loss: {:>10.4f} Validation Accuracy: {:.6f}\".format(loss, accuracy))"
   ]
  },
  {
   "cell_type": "markdown",
   "metadata": {
    "deletable": true,
    "editable": true
   },
   "source": [
    "### Hyperparameters\n",
    "Tune the following parameters:\n",
    "* Set `epochs` to the number of iterations until the network stops learning or start overfitting\n",
    "* Set `batch_size` to the highest number that your machine has memory for.  Most people set them to common sizes of memory:\n",
    " * 64\n",
    " * 128\n",
    " * 256\n",
    " * ...\n",
    "* Set `keep_probability` to the probability of keeping a node using dropout"
   ]
  },
  {
   "cell_type": "code",
   "execution_count": 34,
   "metadata": {
    "collapsed": true,
    "deletable": true,
    "editable": true
   },
   "outputs": [],
   "source": [
    "# TODO: Tune Parameters\n",
    "epochs = 50\n",
    "batch_size = 512\n",
    "keep_probability = 0.4"
   ]
  },
  {
   "cell_type": "markdown",
   "metadata": {
    "deletable": true,
    "editable": true
   },
   "source": [
    "### Train on a Single CIFAR-10 Batch\n",
    "Instead of training the neural network on all the CIFAR-10 batches of data, let's use a single batch. This should save time while you iterate on the model to get a better accuracy.  Once the final validation accuracy is 50% or greater, run the model on all the data in the next section."
   ]
  },
  {
   "cell_type": "code",
   "execution_count": 35,
   "metadata": {
    "collapsed": false,
    "deletable": true,
    "editable": true
   },
   "outputs": [
    {
     "name": "stdout",
     "output_type": "stream",
     "text": [
      "Checking the Training on a Single Batch...\n",
      "Epoch  1, CIFAR-10 Batch 1:  Loss:     2.2975 Validation Accuracy: 0.118800\n",
      "Epoch  2, CIFAR-10 Batch 1:  Loss:     2.2443 Validation Accuracy: 0.172600\n",
      "Epoch  3, CIFAR-10 Batch 1:  Loss:     2.2353 Validation Accuracy: 0.191800\n",
      "Epoch  4, CIFAR-10 Batch 1:  Loss:     2.2057 Validation Accuracy: 0.205200\n",
      "Epoch  5, CIFAR-10 Batch 1:  Loss:     2.1665 Validation Accuracy: 0.226000\n",
      "Epoch  6, CIFAR-10 Batch 1:  Loss:     2.1453 Validation Accuracy: 0.241600\n",
      "Epoch  7, CIFAR-10 Batch 1:  Loss:     2.0901 Validation Accuracy: 0.280400\n",
      "Epoch  8, CIFAR-10 Batch 1:  Loss:     2.0235 Validation Accuracy: 0.287000\n",
      "Epoch  9, CIFAR-10 Batch 1:  Loss:     1.9835 Validation Accuracy: 0.285400\n",
      "Epoch 10, CIFAR-10 Batch 1:  Loss:     1.9189 Validation Accuracy: 0.341600\n",
      "Epoch 11, CIFAR-10 Batch 1:  Loss:     1.8664 Validation Accuracy: 0.360200\n",
      "Epoch 12, CIFAR-10 Batch 1:  Loss:     1.8497 Validation Accuracy: 0.361200\n",
      "Epoch 13, CIFAR-10 Batch 1:  Loss:     1.7509 Validation Accuracy: 0.398600\n",
      "Epoch 14, CIFAR-10 Batch 1:  Loss:     1.7145 Validation Accuracy: 0.414800\n",
      "Epoch 15, CIFAR-10 Batch 1:  Loss:     1.6534 Validation Accuracy: 0.432800\n",
      "Epoch 16, CIFAR-10 Batch 1:  Loss:     1.6153 Validation Accuracy: 0.441800\n",
      "Epoch 17, CIFAR-10 Batch 1:  Loss:     1.5574 Validation Accuracy: 0.452600\n",
      "Epoch 18, CIFAR-10 Batch 1:  Loss:     1.5532 Validation Accuracy: 0.458000\n",
      "Epoch 19, CIFAR-10 Batch 1:  Loss:     1.5138 Validation Accuracy: 0.458800\n",
      "Epoch 20, CIFAR-10 Batch 1:  Loss:     1.4639 Validation Accuracy: 0.470200\n",
      "Epoch 21, CIFAR-10 Batch 1:  Loss:     1.4419 Validation Accuracy: 0.475600\n",
      "Epoch 22, CIFAR-10 Batch 1:  Loss:     1.4264 Validation Accuracy: 0.484800\n",
      "Epoch 23, CIFAR-10 Batch 1:  Loss:     1.3880 Validation Accuracy: 0.486400\n",
      "Epoch 24, CIFAR-10 Batch 1:  Loss:     1.3727 Validation Accuracy: 0.494600\n",
      "Epoch 25, CIFAR-10 Batch 1:  Loss:     1.3470 Validation Accuracy: 0.490600\n",
      "Epoch 26, CIFAR-10 Batch 1:  Loss:     1.3550 Validation Accuracy: 0.499000\n",
      "Epoch 27, CIFAR-10 Batch 1:  Loss:     1.3124 Validation Accuracy: 0.499400\n",
      "Epoch 28, CIFAR-10 Batch 1:  Loss:     1.2775 Validation Accuracy: 0.513600\n",
      "Epoch 29, CIFAR-10 Batch 1:  Loss:     1.2848 Validation Accuracy: 0.494600\n",
      "Epoch 30, CIFAR-10 Batch 1:  Loss:     1.2407 Validation Accuracy: 0.518600\n",
      "Epoch 31, CIFAR-10 Batch 1:  Loss:     1.2076 Validation Accuracy: 0.521800\n",
      "Epoch 32, CIFAR-10 Batch 1:  Loss:     1.2132 Validation Accuracy: 0.518400\n",
      "Epoch 33, CIFAR-10 Batch 1:  Loss:     1.1569 Validation Accuracy: 0.526600\n",
      "Epoch 34, CIFAR-10 Batch 1:  Loss:     1.1493 Validation Accuracy: 0.522400\n",
      "Epoch 35, CIFAR-10 Batch 1:  Loss:     1.1024 Validation Accuracy: 0.532600\n",
      "Epoch 36, CIFAR-10 Batch 1:  Loss:     1.0791 Validation Accuracy: 0.537600\n",
      "Epoch 37, CIFAR-10 Batch 1:  Loss:     1.0749 Validation Accuracy: 0.535000\n",
      "Epoch 38, CIFAR-10 Batch 1:  Loss:     1.0335 Validation Accuracy: 0.545600\n",
      "Epoch 39, CIFAR-10 Batch 1:  Loss:     1.0298 Validation Accuracy: 0.539800\n",
      "Epoch 40, CIFAR-10 Batch 1:  Loss:     1.0031 Validation Accuracy: 0.546600\n",
      "Epoch 41, CIFAR-10 Batch 1:  Loss:     0.9824 Validation Accuracy: 0.557200\n",
      "Epoch 42, CIFAR-10 Batch 1:  Loss:     0.9374 Validation Accuracy: 0.554800\n",
      "Epoch 43, CIFAR-10 Batch 1:  Loss:     0.9377 Validation Accuracy: 0.558400\n",
      "Epoch 44, CIFAR-10 Batch 1:  Loss:     0.9131 Validation Accuracy: 0.561400\n",
      "Epoch 45, CIFAR-10 Batch 1:  Loss:     0.8993 Validation Accuracy: 0.561600\n",
      "Epoch 46, CIFAR-10 Batch 1:  Loss:     0.8632 Validation Accuracy: 0.567600\n",
      "Epoch 47, CIFAR-10 Batch 1:  Loss:     0.8634 Validation Accuracy: 0.571400\n",
      "Epoch 48, CIFAR-10 Batch 1:  Loss:     0.8259 Validation Accuracy: 0.567800\n",
      "Epoch 49, CIFAR-10 Batch 1:  Loss:     0.8355 Validation Accuracy: 0.569800\n",
      "Epoch 50, CIFAR-10 Batch 1:  Loss:     0.7935 Validation Accuracy: 0.576800\n"
     ]
    }
   ],
   "source": [
    "\"\"\"\n",
    "DON'T MODIFY ANYTHING IN THIS CELL\n",
    "\"\"\"\n",
    "print('Checking the Training on a Single Batch...')\n",
    "with tf.Session() as sess:\n",
    "    # Initializing the variables\n",
    "    sess.run(tf.global_variables_initializer())\n",
    "    \n",
    "    # Training cycle\n",
    "    for epoch in range(epochs):\n",
    "        batch_i = 1\n",
    "        for batch_features, batch_labels in helper.load_preprocess_training_batch(batch_i, batch_size):\n",
    "            train_neural_network(sess, optimizer, keep_probability, batch_features, batch_labels)\n",
    "        print('Epoch {:>2}, CIFAR-10 Batch {}:  '.format(epoch + 1, batch_i), end='')\n",
    "        print_stats(sess, batch_features, batch_labels, cost, accuracy)"
   ]
  },
  {
   "cell_type": "markdown",
   "metadata": {
    "deletable": true,
    "editable": true
   },
   "source": [
    "### Fully Train the Model\n",
    "Now that you got a good accuracy with a single CIFAR-10 batch, try it with all five batches."
   ]
  },
  {
   "cell_type": "code",
   "execution_count": 36,
   "metadata": {
    "collapsed": false,
    "deletable": true,
    "editable": true
   },
   "outputs": [
    {
     "name": "stdout",
     "output_type": "stream",
     "text": [
      "Training...\n",
      "Epoch  1, CIFAR-10 Batch 1:  Loss:     2.2982 Validation Accuracy: 0.113800\n",
      "Epoch  1, CIFAR-10 Batch 2:  Loss:     2.2595 Validation Accuracy: 0.177800\n",
      "Epoch  1, CIFAR-10 Batch 3:  Loss:     2.2284 Validation Accuracy: 0.188200\n",
      "Epoch  1, CIFAR-10 Batch 4:  Loss:     2.1364 Validation Accuracy: 0.236000\n",
      "Epoch  1, CIFAR-10 Batch 5:  Loss:     2.1032 Validation Accuracy: 0.235000\n",
      "Epoch  2, CIFAR-10 Batch 1:  Loss:     2.1020 Validation Accuracy: 0.257200\n",
      "Epoch  2, CIFAR-10 Batch 2:  Loss:     1.9837 Validation Accuracy: 0.295400\n",
      "Epoch  2, CIFAR-10 Batch 3:  Loss:     1.9298 Validation Accuracy: 0.305600\n",
      "Epoch  2, CIFAR-10 Batch 4:  Loss:     1.8525 Validation Accuracy: 0.322000\n",
      "Epoch  2, CIFAR-10 Batch 5:  Loss:     1.8543 Validation Accuracy: 0.323600\n",
      "Epoch  3, CIFAR-10 Batch 1:  Loss:     1.9175 Validation Accuracy: 0.325800\n",
      "Epoch  3, CIFAR-10 Batch 2:  Loss:     1.8411 Validation Accuracy: 0.342200\n",
      "Epoch  3, CIFAR-10 Batch 3:  Loss:     1.7443 Validation Accuracy: 0.364400\n",
      "Epoch  3, CIFAR-10 Batch 4:  Loss:     1.7061 Validation Accuracy: 0.387400\n",
      "Epoch  3, CIFAR-10 Batch 5:  Loss:     1.7278 Validation Accuracy: 0.380600\n",
      "Epoch  4, CIFAR-10 Batch 1:  Loss:     1.7923 Validation Accuracy: 0.400000\n",
      "Epoch  4, CIFAR-10 Batch 2:  Loss:     1.6719 Validation Accuracy: 0.410800\n",
      "Epoch  4, CIFAR-10 Batch 3:  Loss:     1.5793 Validation Accuracy: 0.404000\n",
      "Epoch  4, CIFAR-10 Batch 4:  Loss:     1.5773 Validation Accuracy: 0.428400\n",
      "Epoch  4, CIFAR-10 Batch 5:  Loss:     1.6475 Validation Accuracy: 0.415800\n",
      "Epoch  5, CIFAR-10 Batch 1:  Loss:     1.6705 Validation Accuracy: 0.440000\n",
      "Epoch  5, CIFAR-10 Batch 2:  Loss:     1.5797 Validation Accuracy: 0.447600\n",
      "Epoch  5, CIFAR-10 Batch 3:  Loss:     1.4612 Validation Accuracy: 0.442200\n",
      "Epoch  5, CIFAR-10 Batch 4:  Loss:     1.4904 Validation Accuracy: 0.459400\n",
      "Epoch  5, CIFAR-10 Batch 5:  Loss:     1.5536 Validation Accuracy: 0.445800\n",
      "Epoch  6, CIFAR-10 Batch 1:  Loss:     1.6278 Validation Accuracy: 0.464000\n",
      "Epoch  6, CIFAR-10 Batch 2:  Loss:     1.5523 Validation Accuracy: 0.462600\n",
      "Epoch  6, CIFAR-10 Batch 3:  Loss:     1.3597 Validation Accuracy: 0.477400\n",
      "Epoch  6, CIFAR-10 Batch 4:  Loss:     1.4119 Validation Accuracy: 0.481200\n",
      "Epoch  6, CIFAR-10 Batch 5:  Loss:     1.4555 Validation Accuracy: 0.481200\n",
      "Epoch  7, CIFAR-10 Batch 1:  Loss:     1.5414 Validation Accuracy: 0.487000\n",
      "Epoch  7, CIFAR-10 Batch 2:  Loss:     1.4523 Validation Accuracy: 0.497200\n",
      "Epoch  7, CIFAR-10 Batch 3:  Loss:     1.2860 Validation Accuracy: 0.494400\n",
      "Epoch  7, CIFAR-10 Batch 4:  Loss:     1.3332 Validation Accuracy: 0.500000\n",
      "Epoch  7, CIFAR-10 Batch 5:  Loss:     1.4161 Validation Accuracy: 0.498600\n",
      "Epoch  8, CIFAR-10 Batch 1:  Loss:     1.4840 Validation Accuracy: 0.500200\n",
      "Epoch  8, CIFAR-10 Batch 2:  Loss:     1.3512 Validation Accuracy: 0.521200\n",
      "Epoch  8, CIFAR-10 Batch 3:  Loss:     1.2621 Validation Accuracy: 0.517200\n",
      "Epoch  8, CIFAR-10 Batch 4:  Loss:     1.3074 Validation Accuracy: 0.509200\n",
      "Epoch  8, CIFAR-10 Batch 5:  Loss:     1.3265 Validation Accuracy: 0.522600\n",
      "Epoch  9, CIFAR-10 Batch 1:  Loss:     1.4033 Validation Accuracy: 0.529000\n",
      "Epoch  9, CIFAR-10 Batch 2:  Loss:     1.3182 Validation Accuracy: 0.534400\n",
      "Epoch  9, CIFAR-10 Batch 3:  Loss:     1.1904 Validation Accuracy: 0.528200\n",
      "Epoch  9, CIFAR-10 Batch 4:  Loss:     1.2167 Validation Accuracy: 0.537600\n",
      "Epoch  9, CIFAR-10 Batch 5:  Loss:     1.2934 Validation Accuracy: 0.542600\n",
      "Epoch 10, CIFAR-10 Batch 1:  Loss:     1.3597 Validation Accuracy: 0.555600\n",
      "Epoch 10, CIFAR-10 Batch 2:  Loss:     1.2658 Validation Accuracy: 0.544600\n",
      "Epoch 10, CIFAR-10 Batch 3:  Loss:     1.1300 Validation Accuracy: 0.547800\n",
      "Epoch 10, CIFAR-10 Batch 4:  Loss:     1.1662 Validation Accuracy: 0.563800\n",
      "Epoch 10, CIFAR-10 Batch 5:  Loss:     1.2177 Validation Accuracy: 0.559600\n",
      "Epoch 11, CIFAR-10 Batch 1:  Loss:     1.2859 Validation Accuracy: 0.560800\n",
      "Epoch 11, CIFAR-10 Batch 2:  Loss:     1.1979 Validation Accuracy: 0.567200\n",
      "Epoch 11, CIFAR-10 Batch 3:  Loss:     1.0875 Validation Accuracy: 0.554000\n",
      "Epoch 11, CIFAR-10 Batch 4:  Loss:     1.0751 Validation Accuracy: 0.577200\n",
      "Epoch 11, CIFAR-10 Batch 5:  Loss:     1.1597 Validation Accuracy: 0.567200\n",
      "Epoch 12, CIFAR-10 Batch 1:  Loss:     1.2352 Validation Accuracy: 0.579000\n",
      "Epoch 12, CIFAR-10 Batch 2:  Loss:     1.1421 Validation Accuracy: 0.573800\n",
      "Epoch 12, CIFAR-10 Batch 3:  Loss:     1.0491 Validation Accuracy: 0.579800\n",
      "Epoch 12, CIFAR-10 Batch 4:  Loss:     1.0759 Validation Accuracy: 0.583800\n",
      "Epoch 12, CIFAR-10 Batch 5:  Loss:     1.1283 Validation Accuracy: 0.578000\n",
      "Epoch 13, CIFAR-10 Batch 1:  Loss:     1.1988 Validation Accuracy: 0.595400\n",
      "Epoch 13, CIFAR-10 Batch 2:  Loss:     1.0939 Validation Accuracy: 0.594800\n",
      "Epoch 13, CIFAR-10 Batch 3:  Loss:     0.9997 Validation Accuracy: 0.587600\n",
      "Epoch 13, CIFAR-10 Batch 4:  Loss:     1.0152 Validation Accuracy: 0.592200\n",
      "Epoch 13, CIFAR-10 Batch 5:  Loss:     1.0872 Validation Accuracy: 0.586600\n",
      "Epoch 14, CIFAR-10 Batch 1:  Loss:     1.1578 Validation Accuracy: 0.588000\n",
      "Epoch 14, CIFAR-10 Batch 2:  Loss:     1.0635 Validation Accuracy: 0.604600\n",
      "Epoch 14, CIFAR-10 Batch 3:  Loss:     0.9825 Validation Accuracy: 0.601400\n",
      "Epoch 14, CIFAR-10 Batch 4:  Loss:     1.0057 Validation Accuracy: 0.598800\n",
      "Epoch 14, CIFAR-10 Batch 5:  Loss:     1.0415 Validation Accuracy: 0.597600\n",
      "Epoch 15, CIFAR-10 Batch 1:  Loss:     1.1180 Validation Accuracy: 0.589000\n",
      "Epoch 15, CIFAR-10 Batch 2:  Loss:     1.0315 Validation Accuracy: 0.604600\n",
      "Epoch 15, CIFAR-10 Batch 3:  Loss:     0.9568 Validation Accuracy: 0.604800\n",
      "Epoch 15, CIFAR-10 Batch 4:  Loss:     0.9486 Validation Accuracy: 0.603600\n",
      "Epoch 15, CIFAR-10 Batch 5:  Loss:     1.0056 Validation Accuracy: 0.601800\n",
      "Epoch 16, CIFAR-10 Batch 1:  Loss:     1.0753 Validation Accuracy: 0.602000\n",
      "Epoch 16, CIFAR-10 Batch 2:  Loss:     1.0257 Validation Accuracy: 0.602800\n",
      "Epoch 16, CIFAR-10 Batch 3:  Loss:     0.8933 Validation Accuracy: 0.610400\n",
      "Epoch 16, CIFAR-10 Batch 4:  Loss:     0.9541 Validation Accuracy: 0.606200\n",
      "Epoch 16, CIFAR-10 Batch 5:  Loss:     0.9850 Validation Accuracy: 0.612200\n",
      "Epoch 17, CIFAR-10 Batch 1:  Loss:     1.0490 Validation Accuracy: 0.608800\n",
      "Epoch 17, CIFAR-10 Batch 2:  Loss:     0.9754 Validation Accuracy: 0.609200\n",
      "Epoch 17, CIFAR-10 Batch 3:  Loss:     0.8937 Validation Accuracy: 0.608400\n",
      "Epoch 17, CIFAR-10 Batch 4:  Loss:     0.8977 Validation Accuracy: 0.615400\n",
      "Epoch 17, CIFAR-10 Batch 5:  Loss:     0.9636 Validation Accuracy: 0.617600\n",
      "Epoch 18, CIFAR-10 Batch 1:  Loss:     1.0202 Validation Accuracy: 0.615800\n",
      "Epoch 18, CIFAR-10 Batch 2:  Loss:     0.9958 Validation Accuracy: 0.615400\n",
      "Epoch 18, CIFAR-10 Batch 3:  Loss:     0.8883 Validation Accuracy: 0.620800\n",
      "Epoch 18, CIFAR-10 Batch 4:  Loss:     0.8903 Validation Accuracy: 0.612200\n",
      "Epoch 18, CIFAR-10 Batch 5:  Loss:     0.9342 Validation Accuracy: 0.621000\n",
      "Epoch 19, CIFAR-10 Batch 1:  Loss:     0.9899 Validation Accuracy: 0.622600\n",
      "Epoch 19, CIFAR-10 Batch 2:  Loss:     0.9325 Validation Accuracy: 0.623600\n",
      "Epoch 19, CIFAR-10 Batch 3:  Loss:     0.8674 Validation Accuracy: 0.620200\n",
      "Epoch 19, CIFAR-10 Batch 4:  Loss:     0.9104 Validation Accuracy: 0.622400\n",
      "Epoch 19, CIFAR-10 Batch 5:  Loss:     0.9226 Validation Accuracy: 0.622200\n",
      "Epoch 20, CIFAR-10 Batch 1:  Loss:     0.9859 Validation Accuracy: 0.615200\n",
      "Epoch 20, CIFAR-10 Batch 2:  Loss:     0.9334 Validation Accuracy: 0.629800\n",
      "Epoch 20, CIFAR-10 Batch 3:  Loss:     0.8415 Validation Accuracy: 0.621600\n",
      "Epoch 20, CIFAR-10 Batch 4:  Loss:     0.8607 Validation Accuracy: 0.627400\n",
      "Epoch 20, CIFAR-10 Batch 5:  Loss:     0.8997 Validation Accuracy: 0.630600\n",
      "Epoch 21, CIFAR-10 Batch 1:  Loss:     0.9625 Validation Accuracy: 0.627600\n",
      "Epoch 21, CIFAR-10 Batch 2:  Loss:     0.8913 Validation Accuracy: 0.630600\n",
      "Epoch 21, CIFAR-10 Batch 3:  Loss:     0.8093 Validation Accuracy: 0.629800\n",
      "Epoch 21, CIFAR-10 Batch 4:  Loss:     0.8397 Validation Accuracy: 0.631800\n",
      "Epoch 21, CIFAR-10 Batch 5:  Loss:     0.8761 Validation Accuracy: 0.632400\n",
      "Epoch 22, CIFAR-10 Batch 1:  Loss:     0.9378 Validation Accuracy: 0.631800\n",
      "Epoch 22, CIFAR-10 Batch 2:  Loss:     0.8674 Validation Accuracy: 0.634600\n",
      "Epoch 22, CIFAR-10 Batch 3:  Loss:     0.7805 Validation Accuracy: 0.639400\n",
      "Epoch 22, CIFAR-10 Batch 4:  Loss:     0.8235 Validation Accuracy: 0.626200\n",
      "Epoch 22, CIFAR-10 Batch 5:  Loss:     0.8678 Validation Accuracy: 0.623400\n",
      "Epoch 23, CIFAR-10 Batch 1:  Loss:     0.9180 Validation Accuracy: 0.630600\n",
      "Epoch 23, CIFAR-10 Batch 2:  Loss:     0.8874 Validation Accuracy: 0.639200\n",
      "Epoch 23, CIFAR-10 Batch 3:  Loss:     0.7943 Validation Accuracy: 0.636000\n",
      "Epoch 23, CIFAR-10 Batch 4:  Loss:     0.8054 Validation Accuracy: 0.624800\n",
      "Epoch 23, CIFAR-10 Batch 5:  Loss:     0.8296 Validation Accuracy: 0.643000\n",
      "Epoch 24, CIFAR-10 Batch 1:  Loss:     0.8784 Validation Accuracy: 0.632400\n",
      "Epoch 24, CIFAR-10 Batch 2:  Loss:     0.8480 Validation Accuracy: 0.641800\n",
      "Epoch 24, CIFAR-10 Batch 3:  Loss:     0.7924 Validation Accuracy: 0.629800\n",
      "Epoch 24, CIFAR-10 Batch 4:  Loss:     0.7902 Validation Accuracy: 0.634800\n",
      "Epoch 24, CIFAR-10 Batch 5:  Loss:     0.8198 Validation Accuracy: 0.636400\n",
      "Epoch 25, CIFAR-10 Batch 1:  Loss:     0.8898 Validation Accuracy: 0.631600\n",
      "Epoch 25, CIFAR-10 Batch 2:  Loss:     0.8418 Validation Accuracy: 0.645800\n",
      "Epoch 25, CIFAR-10 Batch 3:  Loss:     0.7832 Validation Accuracy: 0.641600\n",
      "Epoch 25, CIFAR-10 Batch 4:  Loss:     0.8062 Validation Accuracy: 0.638000\n",
      "Epoch 25, CIFAR-10 Batch 5:  Loss:     0.7891 Validation Accuracy: 0.647000\n",
      "Epoch 26, CIFAR-10 Batch 1:  Loss:     0.8717 Validation Accuracy: 0.635800\n",
      "Epoch 26, CIFAR-10 Batch 2:  Loss:     0.7935 Validation Accuracy: 0.652000\n",
      "Epoch 26, CIFAR-10 Batch 3:  Loss:     0.7447 Validation Accuracy: 0.647200\n",
      "Epoch 26, CIFAR-10 Batch 4:  Loss:     0.7621 Validation Accuracy: 0.642400\n",
      "Epoch 26, CIFAR-10 Batch 5:  Loss:     0.7696 Validation Accuracy: 0.650000\n",
      "Epoch 27, CIFAR-10 Batch 1:  Loss:     0.8542 Validation Accuracy: 0.638200\n",
      "Epoch 27, CIFAR-10 Batch 2:  Loss:     0.7814 Validation Accuracy: 0.652200\n",
      "Epoch 27, CIFAR-10 Batch 3:  Loss:     0.7315 Validation Accuracy: 0.651200\n",
      "Epoch 27, CIFAR-10 Batch 4:  Loss:     0.7476 Validation Accuracy: 0.649800\n",
      "Epoch 27, CIFAR-10 Batch 5:  Loss:     0.7445 Validation Accuracy: 0.647000\n",
      "Epoch 28, CIFAR-10 Batch 1:  Loss:     0.8396 Validation Accuracy: 0.637600\n",
      "Epoch 28, CIFAR-10 Batch 2:  Loss:     0.7977 Validation Accuracy: 0.652400\n",
      "Epoch 28, CIFAR-10 Batch 3:  Loss:     0.7207 Validation Accuracy: 0.654600\n",
      "Epoch 28, CIFAR-10 Batch 4:  Loss:     0.7229 Validation Accuracy: 0.654000\n",
      "Epoch 28, CIFAR-10 Batch 5:  Loss:     0.7414 Validation Accuracy: 0.657800\n",
      "Epoch 29, CIFAR-10 Batch 1:  Loss:     0.8153 Validation Accuracy: 0.644800\n",
      "Epoch 29, CIFAR-10 Batch 2:  Loss:     0.7529 Validation Accuracy: 0.656600\n",
      "Epoch 29, CIFAR-10 Batch 3:  Loss:     0.6964 Validation Accuracy: 0.653000\n",
      "Epoch 29, CIFAR-10 Batch 4:  Loss:     0.7221 Validation Accuracy: 0.655800\n",
      "Epoch 29, CIFAR-10 Batch 5:  Loss:     0.7239 Validation Accuracy: 0.659400\n",
      "Epoch 30, CIFAR-10 Batch 1:  Loss:     0.8086 Validation Accuracy: 0.649000\n",
      "Epoch 30, CIFAR-10 Batch 2:  Loss:     0.7545 Validation Accuracy: 0.657200\n",
      "Epoch 30, CIFAR-10 Batch 3:  Loss:     0.7120 Validation Accuracy: 0.657200\n",
      "Epoch 30, CIFAR-10 Batch 4:  Loss:     0.7229 Validation Accuracy: 0.650400\n",
      "Epoch 30, CIFAR-10 Batch 5:  Loss:     0.7106 Validation Accuracy: 0.655200\n",
      "Epoch 31, CIFAR-10 Batch 1:  Loss:     0.7866 Validation Accuracy: 0.648400\n",
      "Epoch 31, CIFAR-10 Batch 2:  Loss:     0.7515 Validation Accuracy: 0.658800\n",
      "Epoch 31, CIFAR-10 Batch 3:  Loss:     0.7300 Validation Accuracy: 0.651600\n",
      "Epoch 31, CIFAR-10 Batch 4:  Loss:     0.7114 Validation Accuracy: 0.651200\n",
      "Epoch 31, CIFAR-10 Batch 5:  Loss:     0.7006 Validation Accuracy: 0.661800\n",
      "Epoch 32, CIFAR-10 Batch 1:  Loss:     0.7701 Validation Accuracy: 0.652800\n",
      "Epoch 32, CIFAR-10 Batch 2:  Loss:     0.7297 Validation Accuracy: 0.661400\n",
      "Epoch 32, CIFAR-10 Batch 3:  Loss:     0.6712 Validation Accuracy: 0.661600\n",
      "Epoch 32, CIFAR-10 Batch 4:  Loss:     0.7052 Validation Accuracy: 0.663000\n",
      "Epoch 32, CIFAR-10 Batch 5:  Loss:     0.7012 Validation Accuracy: 0.657800\n",
      "Epoch 33, CIFAR-10 Batch 1:  Loss:     0.7393 Validation Accuracy: 0.663600\n",
      "Epoch 33, CIFAR-10 Batch 2:  Loss:     0.7134 Validation Accuracy: 0.662600\n",
      "Epoch 33, CIFAR-10 Batch 3:  Loss:     0.6701 Validation Accuracy: 0.660800\n",
      "Epoch 33, CIFAR-10 Batch 4:  Loss:     0.6866 Validation Accuracy: 0.664600\n",
      "Epoch 33, CIFAR-10 Batch 5:  Loss:     0.6719 Validation Accuracy: 0.664400\n",
      "Epoch 34, CIFAR-10 Batch 1:  Loss:     0.7277 Validation Accuracy: 0.655000\n",
      "Epoch 34, CIFAR-10 Batch 2:  Loss:     0.6739 Validation Accuracy: 0.665800\n",
      "Epoch 34, CIFAR-10 Batch 3:  Loss:     0.6491 Validation Accuracy: 0.660000\n",
      "Epoch 34, CIFAR-10 Batch 4:  Loss:     0.6917 Validation Accuracy: 0.657200\n",
      "Epoch 34, CIFAR-10 Batch 5:  Loss:     0.6956 Validation Accuracy: 0.659800\n",
      "Epoch 35, CIFAR-10 Batch 1:  Loss:     0.7224 Validation Accuracy: 0.654800\n",
      "Epoch 35, CIFAR-10 Batch 2:  Loss:     0.6967 Validation Accuracy: 0.663800\n",
      "Epoch 35, CIFAR-10 Batch 3:  Loss:     0.6494 Validation Accuracy: 0.665200\n",
      "Epoch 35, CIFAR-10 Batch 4:  Loss:     0.6543 Validation Accuracy: 0.667000\n",
      "Epoch 35, CIFAR-10 Batch 5:  Loss:     0.6701 Validation Accuracy: 0.662000\n",
      "Epoch 36, CIFAR-10 Batch 1:  Loss:     0.7411 Validation Accuracy: 0.656000\n",
      "Epoch 36, CIFAR-10 Batch 2:  Loss:     0.7117 Validation Accuracy: 0.655800\n",
      "Epoch 36, CIFAR-10 Batch 3:  Loss:     0.6510 Validation Accuracy: 0.656000\n",
      "Epoch 36, CIFAR-10 Batch 4:  Loss:     0.6294 Validation Accuracy: 0.667200\n",
      "Epoch 36, CIFAR-10 Batch 5:  Loss:     0.6316 Validation Accuracy: 0.658200\n",
      "Epoch 37, CIFAR-10 Batch 1:  Loss:     0.7168 Validation Accuracy: 0.662600\n",
      "Epoch 37, CIFAR-10 Batch 2:  Loss:     0.6355 Validation Accuracy: 0.677200\n",
      "Epoch 37, CIFAR-10 Batch 3:  Loss:     0.6293 Validation Accuracy: 0.669200\n",
      "Epoch 37, CIFAR-10 Batch 4:  Loss:     0.6352 Validation Accuracy: 0.665200\n",
      "Epoch 37, CIFAR-10 Batch 5:  Loss:     0.6445 Validation Accuracy: 0.669200\n",
      "Epoch 38, CIFAR-10 Batch 1:  Loss:     0.6770 Validation Accuracy: 0.670600\n",
      "Epoch 38, CIFAR-10 Batch 2:  Loss:     0.6479 Validation Accuracy: 0.663000\n",
      "Epoch 38, CIFAR-10 Batch 3:  Loss:     0.6351 Validation Accuracy: 0.659000\n",
      "Epoch 38, CIFAR-10 Batch 4:  Loss:     0.6312 Validation Accuracy: 0.664200\n",
      "Epoch 38, CIFAR-10 Batch 5:  Loss:     0.6278 Validation Accuracy: 0.668600\n",
      "Epoch 39, CIFAR-10 Batch 1:  Loss:     0.6847 Validation Accuracy: 0.663000\n",
      "Epoch 39, CIFAR-10 Batch 2:  Loss:     0.6085 Validation Accuracy: 0.674600\n",
      "Epoch 39, CIFAR-10 Batch 3:  Loss:     0.6179 Validation Accuracy: 0.669400\n",
      "Epoch 39, CIFAR-10 Batch 4:  Loss:     0.6152 Validation Accuracy: 0.662000\n",
      "Epoch 39, CIFAR-10 Batch 5:  Loss:     0.6126 Validation Accuracy: 0.668400\n",
      "Epoch 40, CIFAR-10 Batch 1:  Loss:     0.6972 Validation Accuracy: 0.657200\n",
      "Epoch 40, CIFAR-10 Batch 2:  Loss:     0.6533 Validation Accuracy: 0.655400\n",
      "Epoch 40, CIFAR-10 Batch 3:  Loss:     0.6190 Validation Accuracy: 0.670400\n",
      "Epoch 40, CIFAR-10 Batch 4:  Loss:     0.6071 Validation Accuracy: 0.676200\n",
      "Epoch 40, CIFAR-10 Batch 5:  Loss:     0.6258 Validation Accuracy: 0.666200\n",
      "Epoch 41, CIFAR-10 Batch 1:  Loss:     0.6837 Validation Accuracy: 0.662800\n",
      "Epoch 41, CIFAR-10 Batch 2:  Loss:     0.6372 Validation Accuracy: 0.672200\n",
      "Epoch 41, CIFAR-10 Batch 3:  Loss:     0.5967 Validation Accuracy: 0.673400\n",
      "Epoch 41, CIFAR-10 Batch 4:  Loss:     0.6199 Validation Accuracy: 0.675000\n",
      "Epoch 41, CIFAR-10 Batch 5:  Loss:     0.6024 Validation Accuracy: 0.673000\n",
      "Epoch 42, CIFAR-10 Batch 1:  Loss:     0.6477 Validation Accuracy: 0.672000\n",
      "Epoch 42, CIFAR-10 Batch 2:  Loss:     0.5947 Validation Accuracy: 0.674400\n",
      "Epoch 42, CIFAR-10 Batch 3:  Loss:     0.5711 Validation Accuracy: 0.676600\n",
      "Epoch 42, CIFAR-10 Batch 4:  Loss:     0.5849 Validation Accuracy: 0.679200\n",
      "Epoch 42, CIFAR-10 Batch 5:  Loss:     0.5903 Validation Accuracy: 0.679200\n",
      "Epoch 43, CIFAR-10 Batch 1:  Loss:     0.6371 Validation Accuracy: 0.669400\n",
      "Epoch 43, CIFAR-10 Batch 2:  Loss:     0.5906 Validation Accuracy: 0.679400\n",
      "Epoch 43, CIFAR-10 Batch 3:  Loss:     0.5454 Validation Accuracy: 0.680800\n",
      "Epoch 43, CIFAR-10 Batch 4:  Loss:     0.5686 Validation Accuracy: 0.681000\n",
      "Epoch 43, CIFAR-10 Batch 5:  Loss:     0.5732 Validation Accuracy: 0.676200\n",
      "Epoch 44, CIFAR-10 Batch 1:  Loss:     0.6111 Validation Accuracy: 0.676000\n",
      "Epoch 44, CIFAR-10 Batch 2:  Loss:     0.5672 Validation Accuracy: 0.678400\n",
      "Epoch 44, CIFAR-10 Batch 3:  Loss:     0.5671 Validation Accuracy: 0.673600\n",
      "Epoch 44, CIFAR-10 Batch 4:  Loss:     0.5728 Validation Accuracy: 0.674400\n",
      "Epoch 44, CIFAR-10 Batch 5:  Loss:     0.5513 Validation Accuracy: 0.677800\n",
      "Epoch 45, CIFAR-10 Batch 1:  Loss:     0.6025 Validation Accuracy: 0.677200\n",
      "Epoch 45, CIFAR-10 Batch 2:  Loss:     0.5786 Validation Accuracy: 0.666800\n",
      "Epoch 45, CIFAR-10 Batch 3:  Loss:     0.5523 Validation Accuracy: 0.674000\n",
      "Epoch 45, CIFAR-10 Batch 4:  Loss:     0.5726 Validation Accuracy: 0.678000\n",
      "Epoch 45, CIFAR-10 Batch 5:  Loss:     0.5340 Validation Accuracy: 0.675400\n",
      "Epoch 46, CIFAR-10 Batch 1:  Loss:     0.6083 Validation Accuracy: 0.675200\n",
      "Epoch 46, CIFAR-10 Batch 2:  Loss:     0.5655 Validation Accuracy: 0.671200\n",
      "Epoch 46, CIFAR-10 Batch 3:  Loss:     0.5358 Validation Accuracy: 0.682800\n",
      "Epoch 46, CIFAR-10 Batch 4:  Loss:     0.5633 Validation Accuracy: 0.677200\n",
      "Epoch 46, CIFAR-10 Batch 5:  Loss:     0.5499 Validation Accuracy: 0.679200\n",
      "Epoch 47, CIFAR-10 Batch 1:  Loss:     0.5929 Validation Accuracy: 0.675600\n",
      "Epoch 47, CIFAR-10 Batch 2:  Loss:     0.5406 Validation Accuracy: 0.675800\n",
      "Epoch 47, CIFAR-10 Batch 3:  Loss:     0.5112 Validation Accuracy: 0.682000\n",
      "Epoch 47, CIFAR-10 Batch 4:  Loss:     0.5268 Validation Accuracy: 0.686400\n",
      "Epoch 47, CIFAR-10 Batch 5:  Loss:     0.5201 Validation Accuracy: 0.680200\n",
      "Epoch 48, CIFAR-10 Batch 1:  Loss:     0.5599 Validation Accuracy: 0.678400\n",
      "Epoch 48, CIFAR-10 Batch 2:  Loss:     0.5282 Validation Accuracy: 0.677200\n",
      "Epoch 48, CIFAR-10 Batch 3:  Loss:     0.5005 Validation Accuracy: 0.681800\n",
      "Epoch 48, CIFAR-10 Batch 4:  Loss:     0.5310 Validation Accuracy: 0.681800\n",
      "Epoch 48, CIFAR-10 Batch 5:  Loss:     0.5123 Validation Accuracy: 0.684200\n",
      "Epoch 49, CIFAR-10 Batch 1:  Loss:     0.5559 Validation Accuracy: 0.679600\n",
      "Epoch 49, CIFAR-10 Batch 2:  Loss:     0.5067 Validation Accuracy: 0.684800\n",
      "Epoch 49, CIFAR-10 Batch 3:  Loss:     0.5103 Validation Accuracy: 0.683200\n",
      "Epoch 49, CIFAR-10 Batch 4:  Loss:     0.5113 Validation Accuracy: 0.679800\n",
      "Epoch 49, CIFAR-10 Batch 5:  Loss:     0.4999 Validation Accuracy: 0.681000\n",
      "Epoch 50, CIFAR-10 Batch 1:  Loss:     0.5550 Validation Accuracy: 0.677600\n",
      "Epoch 50, CIFAR-10 Batch 2:  Loss:     0.5137 Validation Accuracy: 0.678000\n",
      "Epoch 50, CIFAR-10 Batch 3:  Loss:     0.5251 Validation Accuracy: 0.674000\n",
      "Epoch 50, CIFAR-10 Batch 4:  Loss:     0.5138 Validation Accuracy: 0.674200\n",
      "Epoch 50, CIFAR-10 Batch 5:  Loss:     0.5006 Validation Accuracy: 0.683200\n"
     ]
    }
   ],
   "source": [
    "\"\"\"\n",
    "DON'T MODIFY ANYTHING IN THIS CELL\n",
    "\"\"\"\n",
    "save_model_path = './image_classification'\n",
    "\n",
    "print('Training...')\n",
    "with tf.Session() as sess:\n",
    "    # Initializing the variables\n",
    "    sess.run(tf.global_variables_initializer())\n",
    "    \n",
    "    # Training cycle\n",
    "    for epoch in range(epochs):\n",
    "        # Loop over all batches\n",
    "        n_batches = 5\n",
    "        for batch_i in range(1, n_batches + 1):\n",
    "            for batch_features, batch_labels in helper.load_preprocess_training_batch(batch_i, batch_size):\n",
    "                train_neural_network(sess, optimizer, keep_probability, batch_features, batch_labels)\n",
    "            print('Epoch {:>2}, CIFAR-10 Batch {}:  '.format(epoch + 1, batch_i), end='')\n",
    "            print_stats(sess, batch_features, batch_labels, cost, accuracy)\n",
    "            \n",
    "    # Save Model\n",
    "    saver = tf.train.Saver()\n",
    "    save_path = saver.save(sess, save_model_path)"
   ]
  },
  {
   "cell_type": "markdown",
   "metadata": {
    "deletable": true,
    "editable": true
   },
   "source": [
    "# Checkpoint\n",
    "The model has been saved to disk.\n",
    "## Test Model\n",
    "Test your model against the test dataset.  This will be your final accuracy. You should have an accuracy greater than 50%. If you don't, keep tweaking the model architecture and parameters."
   ]
  },
  {
   "cell_type": "code",
   "execution_count": 38,
   "metadata": {
    "collapsed": false,
    "deletable": true,
    "editable": true
   },
   "outputs": [
    {
     "name": "stdout",
     "output_type": "stream",
     "text": [
      "Testing Accuracy: 0.6842658549547196\n",
      "\n"
     ]
    },
    {
     "data": {
      "image/png": "[encoded data removed]",
      "text/plain": [
       "<matplotlib.figure.Figure at 0x7fb7fbd48390>"
      ]
     },
     "metadata": {
      "image/png": {
       "height": 319,
       "width": 355
      }
     },
     "output_type": "display_data"
    }
   ],
   "source": [
    "\"\"\"\n",
    "DON'T MODIFY ANYTHING IN THIS CELL\n",
    "\"\"\"\n",
    "%matplotlib inline\n",
    "%config InlineBackend.figure_format = 'retina'\n",
    "\n",
    "import tensorflow as tf\n",
    "import pickle\n",
    "import helper\n",
    "import random\n",
    "\n",
    "# Set batch size if not already set\n",
    "try:\n",
    "    if batch_size:\n",
    "        pass\n",
    "except NameError:\n",
    "    batch_size = 64\n",
    "\n",
    "save_model_path = './image_classification'\n",
    "n_samples = 4\n",
    "top_n_predictions = 3\n",
    "\n",
    "def test_model():\n",
    "    \"\"\"\n",
    "    Test the saved model against the test dataset\n",
    "    \"\"\"\n",
    "\n",
    "    test_features, test_labels = pickle.load(open('preprocess_training.p', mode='rb'))\n",
    "    loaded_graph = tf.Graph()\n",
    "\n",
    "    with tf.Session(graph=loaded_graph) as sess:\n",
    "        # Load model\n",
    "        loader = tf.train.import_meta_graph(save_model_path + '.meta')\n",
    "        loader.restore(sess, save_model_path)\n",
    "\n",
    "        # Get Tensors from loaded model\n",
    "        loaded_x = loaded_graph.get_tensor_by_name('x:0')\n",
    "        loaded_y = loaded_graph.get_tensor_by_name('y:0')\n",
    "        loaded_keep_prob = loaded_graph.get_tensor_by_name('keep_prob:0')\n",
    "        loaded_logits = loaded_graph.get_tensor_by_name('logits:0')\n",
    "        loaded_acc = loaded_graph.get_tensor_by_name('accuracy:0')\n",
    "        \n",
    "        # Get accuracy in batches for memory limitations\n",
    "        test_batch_acc_total = 0\n",
    "        test_batch_count = 0\n",
    "        \n",
    "        for train_feature_batch, train_label_batch in helper.batch_features_labels(test_features, test_labels, batch_size):\n",
    "            test_batch_acc_total += sess.run(\n",
    "                loaded_acc,\n",
    "                feed_dict={loaded_x: train_feature_batch, loaded_y: train_label_batch, loaded_keep_prob: 1.0})\n",
    "            test_batch_count += 1\n",
    "\n",
    "        print('Testing Accuracy: {}\\n'.format(test_batch_acc_total/test_batch_count))\n",
    "\n",
    "        # Print Random Samples\n",
    "        random_test_features, random_test_labels = tuple(zip(*random.sample(list(zip(test_features, test_labels)), n_samples)))\n",
    "        random_test_predictions = sess.run(\n",
    "            tf.nn.top_k(tf.nn.softmax(loaded_logits), top_n_predictions),\n",
    "            feed_dict={loaded_x: random_test_features, loaded_y: random_test_labels, loaded_keep_prob: 1.0})\n",
    "        helper.display_image_predictions(random_test_features, random_test_labels, random_test_predictions)\n",
    "\n",
    "\n",
    "test_model()"
   ]
  },
  {
   "cell_type": "markdown",
   "metadata": {
    "deletable": true,
    "editable": true
   },
   "source": [
    "## Why 50-70% Accuracy?\n",
    "You might be wondering why you can't get an accuracy any higher. First things first, 50% isn't bad for a simple CNN.  Pure guessing would get you 10% accuracy. However, you might notice people are getting scores [well above 70%](http://rodrigob.github.io/are_we_there_yet/build/classification_datasets_results.html#43494641522d3130).  That's because we haven't taught you all there is to know about neural networks. We still need to cover a few more techniques.\n",
    "## Submitting This Project\n",
    "When submitting this project, make sure to run all the cells before saving the notebook.  Save the notebook file as \"dlnd_image_classification.ipynb\" and save it as a HTML file under \"File\" -> \"Download as\".  Include the \"helper.py\" and \"problem_unittests.py\" files in your submission."
   ]
  }
 ],
 "metadata": {
  "kernelspec": {
   "display_name": "Python 3",
   "language": "python",
   "name": "python3"
  },
  "language_info": {
   "codemirror_mode": {
    "name": "ipython",
    "version": 3
   },
   "file_extension": ".py",
   "mimetype": "text/x-python",
   "name": "python",
   "nbconvert_exporter": "python",
   "pygments_lexer": "ipython3",
   "version": "3.5.2"
  },
  "widgets": {
   "state": {},
   "version": "1.1.2"
  }
 },
 "nbformat": 4,
 "nbformat_minor": 1
}
